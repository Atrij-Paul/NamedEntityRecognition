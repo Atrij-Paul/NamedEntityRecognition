{
 "cells": [
  {
   "cell_type": "code",
   "execution_count": 1,
   "metadata": {},
   "outputs": [],
   "source": [
    "import DataLoader\n",
    "from tqdm import tqdm\n",
    "import spacy\n",
    "from spacy.tokens import DocBin \n",
    "from spacy.training.example import Example\n",
    "\n",
    "nlp2 = spacy.load(\"C:\\\\Users\\\\atrij\\\\AppData\\\\Local\\\\Programs\\\\Python\\\\Python311\\\\Lib\\\\site-packages\\\\en_core_web_sm\\\\en_core_web_sm-3.7.0\")\n",
    "\n",
    "db = DocBin()"
   ]
  },
  {
   "cell_type": "code",
   "execution_count": 3,
   "metadata": {},
   "outputs": [],
   "source": [
    "train_data = DataLoader.Loader(\"C:\\\\Users\\\\atrij\\\\OneDrive\\\\Desktop\\\\ML Internship\\\\dataset\\\\dataset\\\\train\\\\boxes_transcripts_labels\")\n",
    "validation_data = DataLoader.Loader(\"C:\\\\Users\\\\atrij\\\\OneDrive\\\\Desktop\\\\ML Internship\\\\dataset\\\\dataset\\\\val_w_ann\\\\boxes_transcripts_labels\")"
   ]
  },
  {
   "cell_type": "code",
   "execution_count": 6,
   "metadata": {},
   "outputs": [
    {
     "name": "stderr",
     "output_type": "stream",
     "text": [
      "100%|██████████| 237437/237437 [00:18<00:00, 12858.61it/s]\n"
     ]
    }
   ],
   "source": [
    "for text , annot in tqdm(train_data):\n",
    "    # doc = nlp2.make_doc(text)\n",
    "    # ents = []\n",
    "    # for start , end , label in annot[\"entities\"]:\n",
    "    #     span = doc.char_span(start , end, label = label , alignment_mode =\"contract\")\n",
    "    #     if span is None:\n",
    "    #         print(\"Skipping Entity\")\n",
    "    #     else:\n",
    "    #         ents.append(span)\n",
    "            \n",
    "        doc = nlp2.make_doc(text)\n",
    "        ents = []\n",
    "\n",
    "        # Check if \"entities\" key is present in annot and is a list\n",
    "        if \"entities\" in annot and isinstance(annot[\"entities\"], list):\n",
    "            for entity in annot[\"entities\"]:\n",
    "                # Check that entity is a tuple with three elements\n",
    "                if isinstance(entity, tuple) and len(entity) == 3:\n",
    "                    start, end, label = entity\n",
    "\n",
    "                    # Check that start and end are integers\n",
    "                    if isinstance(start, int) and isinstance(end, int):\n",
    "                        span = doc.char_span(start, end, label=label, alignment_mode=\"contract\")\n",
    "                        if span is not None:\n",
    "                            ents.append(span)\n",
    "                    else:\n",
    "                        print(f\"Skipping entity due to non-integer start or end: {entity}\")\n",
    "                else:\n",
    "                    print(f\"Skipping entity due to incorrect format: {entity}\")\n",
    "            \n",
    "        doc.ents = ents\n",
    "        db.add(doc)\n",
    "    \n",
    "db.to_disk(\".//pvr_training_data.spacy\")"
   ]
  },
  {
   "cell_type": "code",
   "execution_count": 28,
   "metadata": {},
   "outputs": [
    {
     "name": "stdout",
     "output_type": "stream",
     "text": [
      "\u001b[38;5;3m⚠ To generate a more effective transformer-based config (GPU-only),\n",
      "install the spacy-transformers package and re-run this command. The config\n",
      "generated now does not use transformers.\u001b[0m\n",
      "\u001b[38;5;4mℹ Generated config template specific for your use case\u001b[0m\n",
      "- Language: en\n",
      "- Pipeline: ner\n",
      "- Optimize for: efficiency\n",
      "- Hardware: CPU\n",
      "- Transformer: None\n",
      "\u001b[38;5;2m✔ Auto-filled config with all values\u001b[0m\n",
      "\u001b[38;5;2m✔ Saved config\u001b[0m\n",
      "new_config.cfg\n",
      "You can now add your data and train your pipeline:\n",
      "python -m spacy train new_config.cfg --paths.train ./train.spacy --paths.dev ./dev.spacy\n"
     ]
    }
   ],
   "source": [
    "!python -m spacy init config new_config.cfg --lang en --pipeline ner --optimize efficiency --force"
   ]
  },
  {
   "cell_type": "code",
   "execution_count": 12,
   "metadata": {},
   "outputs": [
    {
     "name": "stderr",
     "output_type": "stream",
     "text": [
      "100%|██████████| 80453/80453 [00:06<00:00, 12939.16it/s]\n"
     ]
    }
   ],
   "source": [
    "for text , annot in tqdm(validation_data):\n",
    "    # doc = nlp2.make_doc(text)\n",
    "    # ents = []\n",
    "    # for start , end , label in annot[\"entities\"]:\n",
    "    #     span = doc.char_span(start , end, label = label , alignment_mode =\"contract\")\n",
    "    #     if span is None:\n",
    "    #         print(\"Skipping Entity\")\n",
    "    #     else:\n",
    "    #         ents.append(span)\n",
    "            \n",
    "        doc = nlp2.make_doc(text)\n",
    "        ents = []\n",
    "\n",
    "        # Check if \"entities\" key is present in annot and is a list\n",
    "        if \"entities\" in annot and isinstance(annot[\"entities\"], list):\n",
    "            for entity in annot[\"entities\"]:\n",
    "                # Check that entity is a tuple with three elements\n",
    "                if isinstance(entity, tuple) and len(entity) == 3:\n",
    "                    start, end, label = entity\n",
    "\n",
    "                    # Check that start and end are integers\n",
    "                    if isinstance(start, int) and isinstance(end, int):\n",
    "                        span = doc.char_span(start, end, label=label, alignment_mode=\"contract\")\n",
    "                        if span is not None:\n",
    "                            ents.append(span)\n",
    "                    else:\n",
    "                        print(f\"Skipping entity due to non-integer start or end: {entity}\")\n",
    "                else:\n",
    "                    print(f\"Skipping entity due to incorrect format: {entity}\")\n",
    "            \n",
    "        doc.ents = ents\n",
    "        db.add(doc)\n",
    "    \n",
    "db.to_disk(\".//pvr_val_data.spacy\")"
   ]
  },
  {
   "cell_type": "code",
   "execution_count": null,
   "metadata": {},
   "outputs": [],
   "source": [
    "!python -m spacy --help"
   ]
  },
  {
   "cell_type": "code",
   "execution_count": 22,
   "metadata": {},
   "outputs": [
    {
     "ename": "SystemExit",
     "evalue": "2",
     "output_type": "error",
     "traceback": [
      "An exception has occurred, use %tb to see the full traceback.\n",
      "\u001b[1;31mSystemExit\u001b[0m\u001b[1;31m:\u001b[0m 2\n"
     ]
    },
    {
     "name": "stderr",
     "output_type": "stream",
     "text": [
      "d:\\ANACONDA\\lib\\site-packages\\IPython\\core\\interactiveshell.py:3468: UserWarning: To exit: use 'exit', 'quit', or Ctrl-D.\n",
      "  warn(\"To exit: use 'exit', 'quit', or Ctrl-D.\", stacklevel=1)\n"
     ]
    }
   ],
   "source": [
    "import spacy.cli\n",
    "spacy.cli.download(\"en_core_web_lg\")\n",
    "nlp4 = spacy.load(\"en_core_web_lg\")"
   ]
  },
  {
   "cell_type": "code",
   "execution_count": 1,
   "metadata": {},
   "outputs": [
    {
     "ename": "",
     "evalue": "",
     "output_type": "error",
     "traceback": [
      "\u001b[1;31mThe Kernel crashed while executing code in the the current cell or a previous cell. Please review the code in the cell(s) to identify a possible cause of the failure. Click <a href='https://aka.ms/vscodeJupyterKernelCrash'>here</a> for more info. View Jupyter <a href='command:jupyter.viewOutput'>log</a> for further details."
     ]
    }
   ],
   "source": [
    "!python -m spacy train new_config.cfg --output ./ --paths.train ./pvr_training_data.spacy --paths.dev ./pvr_training_data.spacy"
   ]
  },
  {
   "cell_type": "code",
   "execution_count": null,
   "metadata": {},
   "outputs": [],
   "source": [
    "nlp_ner = spacy.load(\".//model-best\")"
   ]
  },
  {
   "cell_type": "code",
   "execution_count": null,
   "metadata": {},
   "outputs": [],
   "source": [
    "doc = nlp_ner(\"Website\")"
   ]
  },
  {
   "cell_type": "code",
   "execution_count": null,
   "metadata": {},
   "outputs": [],
   "source": [
    "spacy.displacy.render(doc , style = \"ent\" , jupyter = True)"
   ]
  }
 ],
 "metadata": {
  "kernelspec": {
   "display_name": "base",
   "language": "python",
   "name": "python3"
  },
  "language_info": {
   "codemirror_mode": {
    "name": "ipython",
    "version": 3
   },
   "file_extension": ".py",
   "mimetype": "text/x-python",
   "name": "python",
   "nbconvert_exporter": "python",
   "pygments_lexer": "ipython3",
   "version": "3.10.9"
  }
 },
 "nbformat": 4,
 "nbformat_minor": 2
}
